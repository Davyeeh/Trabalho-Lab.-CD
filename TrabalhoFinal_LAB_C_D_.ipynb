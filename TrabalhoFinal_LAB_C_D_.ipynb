{
  "cells": [
    {
      "cell_type": "markdown",
      "metadata": {
        "colab_type": "text",
        "id": "view-in-github"
      },
      "source": [
        "<a href=\"https://colab.research.google.com/github/Davyeeh/Trabalho-Lab.-CD./blob/main/TrabalhoFinal_LAB_C_D_.ipynb\" target=\"_parent\"><img src=\"https://colab.research.google.com/assets/colab-badge.svg\" alt=\"Open In Colab\"/></a>"
      ]
    },
    {
      "cell_type": "markdown",
      "metadata": {
        "id": "ABni-iHs4DbN"
      },
      "source": [
        "# Dados originais\n",
        "link: https://www.kaggle.com/datasets/osmi/mental-health-in-tech-survey\n",
        "\n",
        "## Informações do Dataset\n",
        "\n",
        "Este conjunto de dados é de uma pesquisa de 2014 que mede as atitudes em relação à saúde mental e a frequência de transtornos de saúde mental no local de trabalho tecnológico. Você também é incentivado a analisar os dados da pesquisa em andamento de 2016 encontrada aqui.\n",
        "\n",
        "## Conteúdo\n",
        "\n",
        "Este conjunto de dados contém os seguintes dados:\n",
        "\n",
        "* Timestamp\n",
        "\n",
        "* Age\n",
        "\n",
        "* Gender\n",
        "\n",
        "* Country\n",
        "\n",
        "* state: Se você mora nos Estados Unidos, em qual estado ou território você mora?\n",
        "\n",
        "* self_employed: Você trabalha por conta própria?\n",
        "\n",
        "* family_history: Você tem histórico familiar de doença mental?\n",
        "\n",
        "* treatment: Você procurou tratamento para um problema de saúde mental?\n",
        "\n",
        "* work_interfere: Se você tem algum problema de saúde mental, sente que isso interfere no seu trabalho?\n",
        "\n",
        "* no_employees: Quantos funcionários sua empresa ou organização possui?\n",
        "\n",
        "* remote_work: Você trabalha remotamente (fora do escritório) pelo menos 50% do tempo?\n",
        "\n",
        "* tech_company: O seu empregador é principalmente uma empresa/organização de tecnologia?\n",
        "\n",
        "* benefits: Seu empregador oferece benefícios de saúde mental?\n",
        "\n",
        "* care_options: Você conhece as opções de cuidados de saúde mental que seu empregador oferece?\n",
        "\n",
        "* wellness_program: Seu empregador já discutiu a saúde mental como parte de um programa de bem-estar para funcionários?\n",
        "\n",
        "* seek_help: O seu empregador fornece recursos para aprender mais sobre questões de saúde mental e como procurar ajuda?\n",
        "\n",
        "* anonymity: O seu anonimato está protegido se você optar por aproveitar as vantagens dos recursos de tratamento de saúde mental ou abuso de substâncias?\n",
        "\n",
        "* leave: É fácil para você tirar licença médica por um problema de saúde mental?\n",
        "\n",
        "* mental_health_consequence: Você acha que discutir um problema de saúde mental com seu empregador teria consequências negativas?\n",
        "\n",
        "* phys_health_consequence: Você acha que discutir um problema de saúde física com seu empregador teria consequências negativas?\n",
        "\n",
        "* coworkers: Você estaria disposto a discutir um problema de saúde mental com seus colegas de trabalho?\n",
        "\n",
        "* supervisor: Você estaria disposto a discutir um problema de saúde mental com seu(s) supervisor(es) direto(s)?\n",
        "\n",
        "* mental_health_interview: Você abordaria um problema de saúde mental com um potencial empregador em uma entrevista?\n",
        "\n",
        "* phys_health_interview: Você abordaria um problema de saúde física com um potencial empregador em uma entrevista?\n",
        "\n",
        "* mental_vs_physical: Você acha que seu empregador leva a saúde mental tão a sério quanto a saúde física?\n",
        "\n",
        "* obs_consequence: Você já ouviu falar ou observou consequências negativas para colegas de trabalho com problemas de saúde mental em seu local de trabalho?\n",
        "\n",
        "* comments: Quaisquer notas ou comentários adicionais\n",
        "\n"
      ]
    },
    {
      "cell_type": "markdown",
      "metadata": {
        "id": "1civuQ4H4_wL"
      },
      "source": [
        "## Importação de bibliotecas necessárias"
      ]
    },
    {
      "cell_type": "code",
      "execution_count": 3,
      "metadata": {
        "colab": {
          "base_uri": "https://localhost:8080/",
          "height": 35
        },
        "id": "YcKBDX7Avjac",
        "outputId": "0b898f50-b0cd-4235-c2d9-fe9b1f6270ac"
      },
      "outputs": [],
      "source": [
        "import pandas as pd\n",
        "import numpy as np\n",
        "import matplotlib.pyplot as plt\n",
        "import seaborn as sns\n"
      ]
    },
    {
      "cell_type": "markdown",
      "metadata": {
        "id": "PjwMqfEJ5Rn0"
      },
      "source": [
        "## Importação da base de dados"
      ]
    },
    {
      "cell_type": "code",
      "execution_count": 4,
      "metadata": {
        "colab": {
          "base_uri": "https://localhost:8080/"
        },
        "id": "5V8keUN95VPz",
        "outputId": "e132b270-9079-4452-e0c9-8f39dfddd464"
      },
      "outputs": [
        {
          "name": "stdout",
          "output_type": "stream",
          "text": [
            "             Timestamp  Age  Gender         Country state self_employed  \\\n",
            "0  2014-08-27 11:29:31   37  Female   United States    IL           NaN   \n",
            "1  2014-08-27 11:29:37   44       M   United States    IN           NaN   \n",
            "2  2014-08-27 11:29:44   32    Male          Canada   NaN           NaN   \n",
            "3  2014-08-27 11:29:46   31    Male  United Kingdom   NaN           NaN   \n",
            "4  2014-08-27 11:30:22   31    Male   United States    TX           NaN   \n",
            "\n",
            "  family_history treatment work_interfere    no_employees  ...  \\\n",
            "0             No       Yes          Often            6-25  ...   \n",
            "1             No        No         Rarely  More than 1000  ...   \n",
            "2             No        No         Rarely            6-25  ...   \n",
            "3            Yes       Yes          Often          26-100  ...   \n",
            "4             No        No          Never         100-500  ...   \n",
            "\n",
            "                leave mental_health_consequence phys_health_consequence  \\\n",
            "0       Somewhat easy                        No                      No   \n",
            "1          Don't know                     Maybe                      No   \n",
            "2  Somewhat difficult                        No                      No   \n",
            "3  Somewhat difficult                       Yes                     Yes   \n",
            "4          Don't know                        No                      No   \n",
            "\n",
            "      coworkers supervisor mental_health_interview phys_health_interview  \\\n",
            "0  Some of them        Yes                      No                 Maybe   \n",
            "1            No         No                      No                    No   \n",
            "2           Yes        Yes                     Yes                   Yes   \n",
            "3  Some of them         No                   Maybe                 Maybe   \n",
            "4  Some of them        Yes                     Yes                   Yes   \n",
            "\n",
            "  mental_vs_physical obs_consequence comments  \n",
            "0                Yes              No      NaN  \n",
            "1         Don't know              No      NaN  \n",
            "2                 No              No      NaN  \n",
            "3                 No             Yes      NaN  \n",
            "4         Don't know              No      NaN  \n",
            "\n",
            "[5 rows x 27 columns]\n",
            "<class 'pandas.core.frame.DataFrame'>\n",
            "RangeIndex: 1259 entries, 0 to 1258\n",
            "Data columns (total 27 columns):\n",
            " #   Column                     Non-Null Count  Dtype \n",
            "---  ------                     --------------  ----- \n",
            " 0   Timestamp                  1259 non-null   object\n",
            " 1   Age                        1259 non-null   int64 \n",
            " 2   Gender                     1259 non-null   object\n",
            " 3   Country                    1259 non-null   object\n",
            " 4   state                      744 non-null    object\n",
            " 5   self_employed              1241 non-null   object\n",
            " 6   family_history             1259 non-null   object\n",
            " 7   treatment                  1259 non-null   object\n",
            " 8   work_interfere             995 non-null    object\n",
            " 9   no_employees               1259 non-null   object\n",
            " 10  remote_work                1259 non-null   object\n",
            " 11  tech_company               1259 non-null   object\n",
            " 12  benefits                   1259 non-null   object\n",
            " 13  care_options               1259 non-null   object\n",
            " 14  wellness_program           1259 non-null   object\n",
            " 15  seek_help                  1259 non-null   object\n",
            " 16  anonymity                  1259 non-null   object\n",
            " 17  leave                      1259 non-null   object\n",
            " 18  mental_health_consequence  1259 non-null   object\n",
            " 19  phys_health_consequence    1259 non-null   object\n",
            " 20  coworkers                  1259 non-null   object\n",
            " 21  supervisor                 1259 non-null   object\n",
            " 22  mental_health_interview    1259 non-null   object\n",
            " 23  phys_health_interview      1259 non-null   object\n",
            " 24  mental_vs_physical         1259 non-null   object\n",
            " 25  obs_consequence            1259 non-null   object\n",
            " 26  comments                   164 non-null    object\n",
            "dtypes: int64(1), object(26)\n",
            "memory usage: 265.7+ KB\n",
            "None\n"
          ]
        }
      ],
      "source": [
        "data = pd.read_csv('https://raw.githubusercontent.com/Davyeeh/Trabalho-Lab.-CD./refs/heads/main/survey.csv', sep=',')\n",
        "print(data.head())\n",
        "print(data.info())"
      ]
    },
    {
      "cell_type": "markdown",
      "metadata": {
        "id": "2VUE4f226BsY"
      },
      "source": [
        "## Limpeza e tratamento de valores faltantes e inconsistentes;"
      ]
    },
    {
      "cell_type": "code",
      "execution_count": 28,
      "metadata": {
        "colab": {
          "base_uri": "https://localhost:8080/"
        },
        "id": "wyYG5pCv6GVy",
        "outputId": "3ec70014-669d-47bb-c802-c13fc28b8f5c"
      },
      "outputs": [
        {
          "name": "stdout",
          "output_type": "stream",
          "text": [
            "Valores am falta\n",
            "\n",
            "Timestamp                       0\n",
            "Age                             0\n",
            "Gender                          0\n",
            "Country                         0\n",
            "state                         515\n",
            "self_employed                  18\n",
            "family_history                  0\n",
            "treatment                       0\n",
            "work_interfere                264\n",
            "no_employees                    0\n",
            "remote_work                     0\n",
            "tech_company                    0\n",
            "benefits                        0\n",
            "care_options                    0\n",
            "wellness_program                0\n",
            "seek_help                       0\n",
            "anonymity                       0\n",
            "leave                           0\n",
            "mental_health_consequence       0\n",
            "phys_health_consequence         0\n",
            "coworkers                       0\n",
            "supervisor                      0\n",
            "mental_health_interview         0\n",
            "phys_health_interview           0\n",
            "mental_vs_physical              0\n",
            "obs_consequence                 0\n",
            "comments                     1095\n",
            "dtype: int64\n",
            "==================================================\n",
            "Porcentagem de valores fem faltas\n",
            "\n",
            "Timestamp                     0.000000\n",
            "Age                           0.000000\n",
            "Gender                        0.000000\n",
            "Country                       0.000000\n",
            "state                        40.905481\n",
            "self_employed                 1.429706\n",
            "family_history                0.000000\n",
            "treatment                     0.000000\n",
            "work_interfere               20.969023\n",
            "no_employees                  0.000000\n",
            "remote_work                   0.000000\n",
            "tech_company                  0.000000\n",
            "benefits                      0.000000\n",
            "care_options                  0.000000\n",
            "wellness_program              0.000000\n",
            "seek_help                     0.000000\n",
            "anonymity                     0.000000\n",
            "leave                         0.000000\n",
            "mental_health_consequence     0.000000\n",
            "phys_health_consequence       0.000000\n",
            "coworkers                     0.000000\n",
            "supervisor                    0.000000\n",
            "mental_health_interview       0.000000\n",
            "phys_health_interview         0.000000\n",
            "mental_vs_physical            0.000000\n",
            "obs_consequence               0.000000\n",
            "comments                     86.973789\n",
            "dtype: float64\n"
          ]
        }
      ],
      "source": [
        "# Verificação de valores faltantes em cada coluna\n",
        "missing_values = data.isna().sum()\n",
        "print('Valores am falta\\n')\n",
        "print(missing_values)\n",
        "print('='*50)\n",
        "print('Porcentagem de valores fem faltas\\n')\n",
        "# Verificação de porcentagem de valores faltantes em cada coluna\n",
        "missing_percentage = (data.isna().sum() / len(data)) * 100\n",
        "print(missing_percentage)"
      ]
    },
    {
      "cell_type": "code",
      "execution_count": 27,
      "metadata": {
        "colab": {
          "base_uri": "https://localhost:8080/"
        },
        "id": "b3WX6IaO8YbZ",
        "outputId": "99c43dcf-3adb-4d5b-c9fa-38ad87e7ff87"
      },
      "outputs": [
        {
          "name": "stdout",
          "output_type": "stream",
          "text": [
            "Timestamp                    1246\n",
            "Age                            53\n",
            "Gender                         49\n",
            "Country                        48\n",
            "state                          45\n",
            "self_employed                   2\n",
            "family_history                  2\n",
            "treatment                       2\n",
            "work_interfere                  4\n",
            "no_employees                    6\n",
            "remote_work                     2\n",
            "tech_company                    2\n",
            "benefits                        3\n",
            "care_options                    3\n",
            "wellness_program                3\n",
            "seek_help                       3\n",
            "anonymity                       3\n",
            "leave                           5\n",
            "mental_health_consequence       3\n",
            "phys_health_consequence         3\n",
            "coworkers                       3\n",
            "supervisor                      3\n",
            "mental_health_interview         3\n",
            "phys_health_interview           3\n",
            "mental_vs_physical              3\n",
            "obs_consequence                 2\n",
            "comments                      160\n",
            "dtype: int64\n",
            "Timestamp            Age  Gender    Country        state  self_employed  family_history  treatment  work_interfere  no_employees    remote_work  tech_company  benefits    care_options  wellness_program  seek_help   anonymity   leave               mental_health_consequence  phys_health_consequence  coworkers     supervisor    mental_health_interview  phys_health_interview  mental_vs_physical  obs_consequence  comments                                                                                                                                                                                                                                                                                                                                                                                                                                                                                                                                                                                                                                                                                                                                                                                              \n",
            "2014-08-27 11:36:48  33   male      United States  CA     No             Yes             Yes        Rarely          26-100          No           Yes           Yes         Not sure      Don't know        Yes         Yes         Don't know          No                         No                       Yes           Yes           No                       Yes                    Don't know          No               Relatively new job. Ask again later                                                                                                                                                                                                                                                                                                                                                                                                                                                                                                                                                                                                                                                                                                                                                                       1\n",
            "2014-08-28 17:19:27  30   m         United States  CA     Yes            Yes             Yes        Sometimes       6-25            Yes          Yes           Don't know  Not sure      No                Don't know  Don't know  Very difficult      Yes                        No                       No            No            No                       Maybe                  Don't know          No               The main reason for the openness answers are because of an experience with my last employer. I felt I could trust my direct supervisor so I divulged information. It ended up spreading to more supervisors and eventually my coworkers. Supers highly suggested treatment but rushed things that shouldn't have been rushed and I ended up being incorrectly treated in a psych ward and mentally scarred from the issue. I lost most of my desire to program due to the experience not to mention thousands of dollars I lost - lost work time vacation time they used for treatment time doctors expenses etc. I have major depressive disorder high anxiety and mild agoraphobia. After seeing what treatment has to offer I will likely not seek it again and continue as is. (Long story short.)    1\n",
            "2014-08-28 22:16:34  43   Cis Male  United States  WA     No             No              Yes        Sometimes       100-500         Yes          Yes           Yes         Yes           No                Yes         Yes         Very difficult      Yes                        Maybe                    Some of them  No            No                       Maybe                  No                  Yes              * Small family business - YMMV.                                                                                                                                                                                                                                                                                                                                                                                                                                                                                                                                                                                                                                                                                                                                                                           1\n",
            "2014-08-28 21:47:33  34   male      United States  TX     No             No              No         Often           1-5             No           Yes           Don't know  No            No                Yes         Don't know  Very easy           No                         No                       Some of them  Yes           No                       Maybe                  Yes                 No               * Small family business - YMMV.                                                                                                                                                                                                                                                                                                                                                                                                                                                                                                                                                                                                                                                                                                                                                                           1\n",
            "2014-08-28 21:41:53  35   Female    United States  GA     No             Yes             Yes        Sometimes       6-25            No           No            Yes         Not sure      Yes               Yes         Yes         Somewhat difficult  Maybe                      Maybe                    Some of them  Yes           No                       Maybe                  Yes                 No               * Small family business - YMMV.                                                                                                                                                                                                                                                                                                                                                                                                                                                                                                                                                                                                                                                                                                                                                                           1\n",
            "                                                                                                                                                                                                                                                                                                                                                                                                                                                                                                                                                                                                                                                                                                                                                                                                                                                                                                                                                                                                                                                                                                                                                                                                                                     ..\n",
            "2014-08-27 15:53:39  43   Male      United States  MA     Yes            Yes             Yes        Often           6-25            Yes          Yes           Yes         Yes           No                No          Yes         Very easy           No                         No                       Yes           Yes           Maybe                    Maybe                  Yes                 No               So much depends upon the organization.                                                                                                                                                                                                                                                                                                                                                                                                                                                                                                                                                                                                                                                                                                                                                                    1\n",
            "2014-08-27 15:38:32  27   female    United States  CA     No             No              Yes        Sometimes       26-100          No           Yes           Don't know  Not sure      No                No          Don't know  Somewhat difficult  Maybe                      Maybe                    Some of them  Some of them  No                       No                     Don't know          No               I talked to a psychiatrist once about taking medical leave for mental health issues with his referral. He was willing to help but warned me that I may not want to as he's seen that sort of thing follow people throughout their tech careers (word gets out even if it's confidential at work). I've been terrified of bringing mental health up anywhere that coworkers or potential employers could see ever since.                                                                                                                                                                                                                                                                                                                                                                                   1\n",
            "2014-08-27 15:26:57  35   M         United States  CA     No             Yes             Yes        Sometimes       100-500         No           Yes           Yes         Yes           No                No          Don't know  Very difficult      Maybe                      Maybe                    Some of them  Some of them  No                       Maybe                  No                  Yes              I'm troubled by the way that our hiring process tends to filter out non-neurotypicals of all stripes. Competent people who act a little funny can be hard to hire.                                                                                                                                                                                                                                                                                                                                                                                                                                                                                                                                                                                                                                        1\n",
            "2014-08-27 15:22:52  34   woman     United States  NY     No             Yes             Yes        Rarely          More than 1000  No           No            Yes         Yes           Yes               Yes         Yes         Very difficult      Maybe                      Maybe                    Some of them  Some of them  No                       No                     Yes                 No               I work for a university.                                                                                                                                                                                                                                                                                                                                                                                                                                                                                                                                                                                                                                                                                                                                                                                  1\n",
            "2015-07-22 18:57:54  30   M         United States  CA     No             Yes             Yes        Sometimes       26-100          No           Yes           Yes         Yes           Don't know        No          Yes         Very easy           No                         No                       Yes           Yes           Maybe                    Maybe                  Yes                 No               Bipolar disorder                                                                                                                                                                                                                                                                                                                                                                                                                                                                                                                                                                                                                                                                                                                                                                                          1\n",
            "Name: count, Length: 86, dtype: int64\n"
          ]
        }
      ],
      "source": [
        "# Varificação de valores únicos em cada coluna\n",
        "unique_values = data.nunique()\n",
        "print(unique_values)\n",
        "\n",
        "# Conatgem de frequência de cada valor único\n",
        "value_counts = data.value_counts()\n",
        "print(value_counts)"
      ]
    }
  ],
  "metadata": {
    "colab": {
      "include_colab_link": true,
      "provenance": []
    },
    "kernelspec": {
      "display_name": "base",
      "language": "python",
      "name": "python3"
    },
    "language_info": {
      "codemirror_mode": {
        "name": "ipython",
        "version": 3
      },
      "file_extension": ".py",
      "mimetype": "text/x-python",
      "name": "python",
      "nbconvert_exporter": "python",
      "pygments_lexer": "ipython3",
      "version": "3.12.3"
    }
  },
  "nbformat": 4,
  "nbformat_minor": 0
}
