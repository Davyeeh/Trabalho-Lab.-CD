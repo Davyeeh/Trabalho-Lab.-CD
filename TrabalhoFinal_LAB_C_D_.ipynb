{
  "nbformat": 4,
  "nbformat_minor": 0,
  "metadata": {
    "colab": {
      "provenance": [],
      "include_colab_link": true
    },
    "kernelspec": {
      "name": "python3",
      "display_name": "Python 3"
    },
    "language_info": {
      "name": "python"
    }
  },
  "cells": [
    {
      "cell_type": "markdown",
      "metadata": {
        "id": "view-in-github",
        "colab_type": "text"
      },
      "source": [
        "<a href=\"https://colab.research.google.com/github/Davyeeh/Trabalho-Lab.-CD./blob/main/TrabalhoFinal_LAB_C_D_.ipynb\" target=\"_parent\"><img src=\"https://colab.research.google.com/assets/colab-badge.svg\" alt=\"Open In Colab\"/></a>"
      ]
    },
    {
      "cell_type": "markdown",
      "source": [
        "# Sobre a base de dados:\n",
        "## Base de dados não tratada(canal oficial):\n",
        "https://www.kaggle.com/datasets/uom190346a/sleep-health-and-lifestyle-dataset/data\n",
        "\n",
        "## Base de dados não tratada(link github):\n",
        "https://raw.githubusercontent.com/Davyeeh/Trabalho-Lab.-CD./refs/heads/main/Sleep_health_and_lifestyle_dataset.csv\n",
        "\n",
        "## Base de dados tratada\n",
        "'link da base de dados tratada'"
      ],
      "metadata": {
        "id": "ABni-iHs4DbN"
      }
    },
    {
      "cell_type": "markdown",
      "source": [
        "## Importação de bibliotecas necessárias"
      ],
      "metadata": {
        "id": "1civuQ4H4_wL"
      }
    },
    {
      "cell_type": "code",
      "execution_count": 2,
      "metadata": {
        "id": "YcKBDX7Avjac"
      },
      "outputs": [],
      "source": [
        "import pandas as pd\n",
        "import numpy as np\n",
        "import matplotlib.pyplot as plt\n",
        "import seaborn as sns"
      ]
    },
    {
      "cell_type": "markdown",
      "source": [
        "## Importação da base de dados"
      ],
      "metadata": {
        "id": "PjwMqfEJ5Rn0"
      }
    },
    {
      "cell_type": "code",
      "source": [
        "data = pd.read_csv('https://github.com/Davyeeh/Trabalho-Lab.-CD./blob/9ba4c7e0a47a777d0f7dbcae929d0c135ec555e9/MICRODADOS_ED_SUP_IES_2023.CSV', sep=',')\n",
        "print(data.head())\n",
        "print(data.info())"
      ],
      "metadata": {
        "colab": {
          "base_uri": "https://localhost:8080/",
          "height": 526
        },
        "id": "5V8keUN95VPz",
        "outputId": "7d4817e5-25dd-43c7-ba2d-b327cb93f9f8"
      },
      "execution_count": 19,
      "outputs": [
        {
          "output_type": "error",
          "ename": "ParserError",
          "evalue": "Error tokenizing data. C error: Expected 1 fields in line 42, saw 42\n",
          "traceback": [
            "\u001b[0;31m---------------------------------------------------------------------------\u001b[0m",
            "\u001b[0;31mParserError\u001b[0m                               Traceback (most recent call last)",
            "\u001b[0;32m<ipython-input-19-247119861727>\u001b[0m in \u001b[0;36m<cell line: 0>\u001b[0;34m()\u001b[0m\n\u001b[0;32m----> 1\u001b[0;31m \u001b[0mdata\u001b[0m \u001b[0;34m=\u001b[0m \u001b[0mpd\u001b[0m\u001b[0;34m.\u001b[0m\u001b[0mread_csv\u001b[0m\u001b[0;34m(\u001b[0m\u001b[0;34m'https://github.com/Davyeeh/Trabalho-Lab.-CD./blob/9ba4c7e0a47a777d0f7dbcae929d0c135ec555e9/MICRODADOS_ED_SUP_IES_2023.CSV'\u001b[0m\u001b[0;34m,\u001b[0m \u001b[0msep\u001b[0m\u001b[0;34m=\u001b[0m\u001b[0;34m','\u001b[0m\u001b[0;34m)\u001b[0m\u001b[0;34m\u001b[0m\u001b[0;34m\u001b[0m\u001b[0m\n\u001b[0m\u001b[1;32m      2\u001b[0m \u001b[0mprint\u001b[0m\u001b[0;34m(\u001b[0m\u001b[0mdata\u001b[0m\u001b[0;34m.\u001b[0m\u001b[0mhead\u001b[0m\u001b[0;34m(\u001b[0m\u001b[0;34m)\u001b[0m\u001b[0;34m)\u001b[0m\u001b[0;34m\u001b[0m\u001b[0;34m\u001b[0m\u001b[0m\n\u001b[1;32m      3\u001b[0m \u001b[0mprint\u001b[0m\u001b[0;34m(\u001b[0m\u001b[0mdata\u001b[0m\u001b[0;34m.\u001b[0m\u001b[0minfo\u001b[0m\u001b[0;34m(\u001b[0m\u001b[0;34m)\u001b[0m\u001b[0;34m)\u001b[0m\u001b[0;34m\u001b[0m\u001b[0;34m\u001b[0m\u001b[0m\n",
            "\u001b[0;32m/usr/local/lib/python3.11/dist-packages/pandas/io/parsers/readers.py\u001b[0m in \u001b[0;36mread_csv\u001b[0;34m(filepath_or_buffer, sep, delimiter, header, names, index_col, usecols, dtype, engine, converters, true_values, false_values, skipinitialspace, skiprows, skipfooter, nrows, na_values, keep_default_na, na_filter, verbose, skip_blank_lines, parse_dates, infer_datetime_format, keep_date_col, date_parser, date_format, dayfirst, cache_dates, iterator, chunksize, compression, thousands, decimal, lineterminator, quotechar, quoting, doublequote, escapechar, comment, encoding, encoding_errors, dialect, on_bad_lines, delim_whitespace, low_memory, memory_map, float_precision, storage_options, dtype_backend)\u001b[0m\n\u001b[1;32m   1024\u001b[0m     \u001b[0mkwds\u001b[0m\u001b[0;34m.\u001b[0m\u001b[0mupdate\u001b[0m\u001b[0;34m(\u001b[0m\u001b[0mkwds_defaults\u001b[0m\u001b[0;34m)\u001b[0m\u001b[0;34m\u001b[0m\u001b[0;34m\u001b[0m\u001b[0m\n\u001b[1;32m   1025\u001b[0m \u001b[0;34m\u001b[0m\u001b[0m\n\u001b[0;32m-> 1026\u001b[0;31m     \u001b[0;32mreturn\u001b[0m \u001b[0m_read\u001b[0m\u001b[0;34m(\u001b[0m\u001b[0mfilepath_or_buffer\u001b[0m\u001b[0;34m,\u001b[0m \u001b[0mkwds\u001b[0m\u001b[0;34m)\u001b[0m\u001b[0;34m\u001b[0m\u001b[0;34m\u001b[0m\u001b[0m\n\u001b[0m\u001b[1;32m   1027\u001b[0m \u001b[0;34m\u001b[0m\u001b[0m\n\u001b[1;32m   1028\u001b[0m \u001b[0;34m\u001b[0m\u001b[0m\n",
            "\u001b[0;32m/usr/local/lib/python3.11/dist-packages/pandas/io/parsers/readers.py\u001b[0m in \u001b[0;36m_read\u001b[0;34m(filepath_or_buffer, kwds)\u001b[0m\n\u001b[1;32m    624\u001b[0m \u001b[0;34m\u001b[0m\u001b[0m\n\u001b[1;32m    625\u001b[0m     \u001b[0;32mwith\u001b[0m \u001b[0mparser\u001b[0m\u001b[0;34m:\u001b[0m\u001b[0;34m\u001b[0m\u001b[0;34m\u001b[0m\u001b[0m\n\u001b[0;32m--> 626\u001b[0;31m         \u001b[0;32mreturn\u001b[0m \u001b[0mparser\u001b[0m\u001b[0;34m.\u001b[0m\u001b[0mread\u001b[0m\u001b[0;34m(\u001b[0m\u001b[0mnrows\u001b[0m\u001b[0;34m)\u001b[0m\u001b[0;34m\u001b[0m\u001b[0;34m\u001b[0m\u001b[0m\n\u001b[0m\u001b[1;32m    627\u001b[0m \u001b[0;34m\u001b[0m\u001b[0m\n\u001b[1;32m    628\u001b[0m \u001b[0;34m\u001b[0m\u001b[0m\n",
            "\u001b[0;32m/usr/local/lib/python3.11/dist-packages/pandas/io/parsers/readers.py\u001b[0m in \u001b[0;36mread\u001b[0;34m(self, nrows)\u001b[0m\n\u001b[1;32m   1921\u001b[0m                     \u001b[0mcolumns\u001b[0m\u001b[0;34m,\u001b[0m\u001b[0;34m\u001b[0m\u001b[0;34m\u001b[0m\u001b[0m\n\u001b[1;32m   1922\u001b[0m                     \u001b[0mcol_dict\u001b[0m\u001b[0;34m,\u001b[0m\u001b[0;34m\u001b[0m\u001b[0;34m\u001b[0m\u001b[0m\n\u001b[0;32m-> 1923\u001b[0;31m                 \u001b[0;34m)\u001b[0m \u001b[0;34m=\u001b[0m \u001b[0mself\u001b[0m\u001b[0;34m.\u001b[0m\u001b[0m_engine\u001b[0m\u001b[0;34m.\u001b[0m\u001b[0mread\u001b[0m\u001b[0;34m(\u001b[0m  \u001b[0;31m# type: ignore[attr-defined]\u001b[0m\u001b[0;34m\u001b[0m\u001b[0;34m\u001b[0m\u001b[0m\n\u001b[0m\u001b[1;32m   1924\u001b[0m                     \u001b[0mnrows\u001b[0m\u001b[0;34m\u001b[0m\u001b[0;34m\u001b[0m\u001b[0m\n\u001b[1;32m   1925\u001b[0m                 )\n",
            "\u001b[0;32m/usr/local/lib/python3.11/dist-packages/pandas/io/parsers/c_parser_wrapper.py\u001b[0m in \u001b[0;36mread\u001b[0;34m(self, nrows)\u001b[0m\n\u001b[1;32m    232\u001b[0m         \u001b[0;32mtry\u001b[0m\u001b[0;34m:\u001b[0m\u001b[0;34m\u001b[0m\u001b[0;34m\u001b[0m\u001b[0m\n\u001b[1;32m    233\u001b[0m             \u001b[0;32mif\u001b[0m \u001b[0mself\u001b[0m\u001b[0;34m.\u001b[0m\u001b[0mlow_memory\u001b[0m\u001b[0;34m:\u001b[0m\u001b[0;34m\u001b[0m\u001b[0;34m\u001b[0m\u001b[0m\n\u001b[0;32m--> 234\u001b[0;31m                 \u001b[0mchunks\u001b[0m \u001b[0;34m=\u001b[0m \u001b[0mself\u001b[0m\u001b[0;34m.\u001b[0m\u001b[0m_reader\u001b[0m\u001b[0;34m.\u001b[0m\u001b[0mread_low_memory\u001b[0m\u001b[0;34m(\u001b[0m\u001b[0mnrows\u001b[0m\u001b[0;34m)\u001b[0m\u001b[0;34m\u001b[0m\u001b[0;34m\u001b[0m\u001b[0m\n\u001b[0m\u001b[1;32m    235\u001b[0m                 \u001b[0;31m# destructive to chunks\u001b[0m\u001b[0;34m\u001b[0m\u001b[0;34m\u001b[0m\u001b[0m\n\u001b[1;32m    236\u001b[0m                 \u001b[0mdata\u001b[0m \u001b[0;34m=\u001b[0m \u001b[0m_concatenate_chunks\u001b[0m\u001b[0;34m(\u001b[0m\u001b[0mchunks\u001b[0m\u001b[0;34m)\u001b[0m\u001b[0;34m\u001b[0m\u001b[0;34m\u001b[0m\u001b[0m\n",
            "\u001b[0;32mparsers.pyx\u001b[0m in \u001b[0;36mpandas._libs.parsers.TextReader.read_low_memory\u001b[0;34m()\u001b[0m\n",
            "\u001b[0;32mparsers.pyx\u001b[0m in \u001b[0;36mpandas._libs.parsers.TextReader._read_rows\u001b[0;34m()\u001b[0m\n",
            "\u001b[0;32mparsers.pyx\u001b[0m in \u001b[0;36mpandas._libs.parsers.TextReader._tokenize_rows\u001b[0;34m()\u001b[0m\n",
            "\u001b[0;32mparsers.pyx\u001b[0m in \u001b[0;36mpandas._libs.parsers.TextReader._check_tokenize_status\u001b[0;34m()\u001b[0m\n",
            "\u001b[0;32mparsers.pyx\u001b[0m in \u001b[0;36mpandas._libs.parsers.raise_parser_error\u001b[0;34m()\u001b[0m\n",
            "\u001b[0;31mParserError\u001b[0m: Error tokenizing data. C error: Expected 1 fields in line 42, saw 42\n"
          ]
        }
      ]
    },
    {
      "cell_type": "markdown",
      "source": [
        "## Limpeza e tratamento de valores faltantes e inconsistentes;"
      ],
      "metadata": {
        "id": "2VUE4f226BsY"
      }
    },
    {
      "cell_type": "code",
      "source": [
        "# Verificação de valores faltantes em cada coluna\n",
        "missing_values = data.isna().sum()\n",
        "print('Valores am falta\\n')\n",
        "print(missing_values)\n",
        "print('='*50)\n",
        "print('Porcentagem de valores fem faltas\\n')\n",
        "# Verificação de porcentagem de valores faltantes em cada coluna\n",
        "missing_percentage = (data.isna().sum() / len(data)) * 100\n",
        "print(missing_percentage)"
      ],
      "metadata": {
        "colab": {
          "base_uri": "https://localhost:8080/"
        },
        "id": "wyYG5pCv6GVy",
        "outputId": "1e22814a-10ad-4a42-d716-2af38312acac"
      },
      "execution_count": 15,
      "outputs": [
        {
          "output_type": "stream",
          "name": "stdout",
          "text": [
            "Valores am falta\n",
            "\n",
            "Ano        0\n",
            "Mes        0\n",
            "Total      0\n",
            "Worm       0\n",
            "DOS        0\n",
            "Invasao    0\n",
            "Web        0\n",
            "Scan       0\n",
            "Fraude     0\n",
            "Outros     0\n",
            "dtype: int64\n",
            "==================================================\n",
            "Porcentagem de valores fem faltas\n",
            "\n",
            "Ano        0.0\n",
            "Mes        0.0\n",
            "Total      0.0\n",
            "Worm       0.0\n",
            "DOS        0.0\n",
            "Invasao    0.0\n",
            "Web        0.0\n",
            "Scan       0.0\n",
            "Fraude     0.0\n",
            "Outros     0.0\n",
            "dtype: float64\n"
          ]
        }
      ]
    },
    {
      "cell_type": "code",
      "source": [
        "# Varificação de valores únicos em cada coluna\n",
        "unique_values = data.nunique()\n",
        "print(unique_values)\n",
        "\n",
        "# Conatgem de frequência de cada valor único\n",
        "value_counts = data.value_counts()\n",
        "print(value_counts)"
      ],
      "metadata": {
        "colab": {
          "base_uri": "https://localhost:8080/"
        },
        "id": "b3WX6IaO8YbZ",
        "outputId": "f6e44f3c-4a1e-47b3-8a79-276c91841058"
      },
      "execution_count": 7,
      "outputs": [
        {
          "output_type": "stream",
          "name": "stdout",
          "text": [
            "NOME_UF                 27\n",
            "NOME_MUNICIPIO        1461\n",
            "ESFERA_GOV_ESCOLA        2\n",
            "LOCALIZACAO_ESCOLA       2\n",
            "INEP_ESCOLA           6904\n",
            "NOME_ESCOLA           6727\n",
            "QUANT_ALUNADO          532\n",
            " VALOR_RECEBIDO       4311\n",
            "dtype: int64\n",
            "NOME_UF  NOME_MUNICIPIO         ESFERA_GOV_ESCOLA  LOCALIZACAO_ESCOLA  INEP_ESCOLA  NOME_ESCOLA                                  QUANT_ALUNADO   VALOR_RECEBIDO \n",
            "AC       CRUZEIRO DO SUL        MUNICIPAL          Urbana              12001597.0   ESC THAUMATURGO DE AZEVEDO                   100.0          R$ 42.660,00        1\n",
            "PB       REMIGIO                MUNICIPAL          Rural               25058096.0   ESC MUL ENS FUND ELIZIO CLEMENTINO           42.0           R$ 15.078,00        1\n",
            "         QUEIMADAS              MUNICIPAL          Rural               25106384.0   EMEF TERTULIANO MACIEL                       120.0          R$ 82.998,00        1\n",
            "         POCO DE JOSE DE MOURA  MUNICIPAL          Urbana              25006010.0   EMEIF PROFESSOR FRANCISCO CASSIANO SOBRINHO  329.0          R$ 122.745,00       1\n",
            "         POCO DANTAS            MUNICIPAL          Urbana              25013645.0   EMEIFM ROSA DIAS DO NASCIMENTO               210.0          R$ 59.712,00        1\n",
            "                                                                                                                                                                   ..\n",
            "CE       JUAZEIRO DO NORTE      MUNICIPAL          Urbana              23165650.0   JOSE GERALDO DA CRUZ EEF                     100.0          R$ 39.930,00        1\n",
            "                                                   Rural               23322810.0   FRANCISCO BARBOSA DA SILVA VEREADOR EMEF     120.0          R$ 55.440,00        1\n",
            "         ITAPIUNA               MUNICIPAL          Rural               23192860.0   RENASCER EEIEF                               129.0          R$ 34.450,00        1\n",
            "         ITAPIPOCA              MUNICIPAL          Urbana              23038101.0   MANOEL RODRIGUES SOBRINHO EEB                125.0          R$ 59.295,00        1\n",
            "TO       WANDERLANDIA           MUNICIPAL          Rural               17010195.0   ESCOLA MUL JOSE HENRIQUE DOS SANTOS          100.0          R$ 58.410,00        1\n",
            "Name: count, Length: 6904, dtype: int64\n"
          ]
        }
      ]
    }
  ]
}