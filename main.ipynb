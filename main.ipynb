{
  "nbformat": 4,
  "nbformat_minor": 0,
  "metadata": {
    "colab": {
      "provenance": [],
      "include_colab_link": true
    },
    "kernelspec": {
      "name": "python3",
      "display_name": "Python 3"
    },
    "language_info": {
      "name": "python"
    }
  },
  "cells": [
    {
      "cell_type": "markdown",
      "metadata": {
        "id": "view-in-github",
        "colab_type": "text"
      },
      "source": [
        "<a href=\"https://colab.research.google.com/github/Davyeeh/Trabalho-Lab.-CD./blob/main/main.ipynb\" target=\"_parent\"><img src=\"https://colab.research.google.com/assets/colab-badge.svg\" alt=\"Open In Colab\"/></a>"
      ]
    },
    {
      "cell_type": "markdown",
      "source": [
        "# Preparação dos dados\n",
        "\n",
        "\n",
        "\n",
        "\n"
      ],
      "metadata": {
        "id": "jqnQ6M0Uzb20"
      }
    },
    {
      "cell_type": "code",
      "execution_count": 16,
      "metadata": {
        "id": "YcKBDX7Avjac",
        "colab": {
          "base_uri": "https://localhost:8080/"
        },
        "outputId": "56f79fe5-62da-4b25-bf03-febc0b246d6a"
      },
      "outputs": [
        {
          "output_type": "stream",
          "name": "stdout",
          "text": [
            "   Person ID Gender  Age            Occupation  Sleep Duration  \\\n",
            "0          1   Male   27     Software Engineer             6.1   \n",
            "1          2   Male   28                Doctor             6.2   \n",
            "2          3   Male   28                Doctor             6.2   \n",
            "3          4   Male   28  Sales Representative             5.9   \n",
            "4          5   Male   28  Sales Representative             5.9   \n",
            "\n",
            "   Quality of Sleep  Physical Activity Level  Stress Level BMI Category  \\\n",
            "0                 6                       42             6   Overweight   \n",
            "1                 6                       60             8       Normal   \n",
            "2                 6                       60             8       Normal   \n",
            "3                 4                       30             8        Obese   \n",
            "4                 4                       30             8        Obese   \n",
            "\n",
            "  Blood Pressure  Heart Rate  Daily Steps Sleep Disorder  \n",
            "0         126/83          77         4200            NaN  \n",
            "1         125/80          75        10000            NaN  \n",
            "2         125/80          75        10000            NaN  \n",
            "3         140/90          85         3000    Sleep Apnea  \n",
            "4         140/90          85         3000    Sleep Apnea  \n",
            "==================================================\n",
            "     Person ID  Gender  Age Occupation  Sleep Duration  Quality of Sleep  \\\n",
            "369        370  Female   59      Nurse             8.1                 9   \n",
            "370        371  Female   59      Nurse             8.0                 9   \n",
            "371        372  Female   59      Nurse             8.1                 9   \n",
            "372        373  Female   59      Nurse             8.1                 9   \n",
            "373        374  Female   59      Nurse             8.1                 9   \n",
            "\n",
            "     Physical Activity Level  Stress Level BMI Category Blood Pressure  \\\n",
            "369                       75             3   Overweight         140/95   \n",
            "370                       75             3   Overweight         140/95   \n",
            "371                       75             3   Overweight         140/95   \n",
            "372                       75             3   Overweight         140/95   \n",
            "373                       75             3   Overweight         140/95   \n",
            "\n",
            "     Heart Rate  Daily Steps Sleep Disorder  \n",
            "369          68         7000    Sleep Apnea  \n",
            "370          68         7000    Sleep Apnea  \n",
            "371          68         7000    Sleep Apnea  \n",
            "372          68         7000    Sleep Apnea  \n",
            "373          68         7000    Sleep Apnea  \n",
            "==================================================\n",
            "<class 'pandas.core.frame.DataFrame'>\n",
            "RangeIndex: 374 entries, 0 to 373\n",
            "Data columns (total 13 columns):\n",
            " #   Column                   Non-Null Count  Dtype  \n",
            "---  ------                   --------------  -----  \n",
            " 0   Person ID                374 non-null    int64  \n",
            " 1   Gender                   374 non-null    object \n",
            " 2   Age                      374 non-null    int64  \n",
            " 3   Occupation               374 non-null    object \n",
            " 4   Sleep Duration           374 non-null    float64\n",
            " 5   Quality of Sleep         374 non-null    int64  \n",
            " 6   Physical Activity Level  374 non-null    int64  \n",
            " 7   Stress Level             374 non-null    int64  \n",
            " 8   BMI Category             374 non-null    object \n",
            " 9   Blood Pressure           374 non-null    object \n",
            " 10  Heart Rate               374 non-null    int64  \n",
            " 11  Daily Steps              374 non-null    int64  \n",
            " 12  Sleep Disorder           155 non-null    object \n",
            "dtypes: float64(1), int64(7), object(5)\n",
            "memory usage: 38.1+ KB\n"
          ]
        }
      ],
      "source": [
        "import pandas as pd\n",
        "import matplotlib.pyplot as plt\n",
        "import seaborn as sns\n",
        "# Para gráficos interativos\n",
        "import plotly.express as px\n",
        "\n",
        "data = pd.read_csv('https://raw.githubusercontent.com/Davyeeh/Trabalho-Lab.-CD./refs/heads/main/Sleep_health_and_lifestyle_dataset.csv', delimiter=',')\n",
        "print(data.head())\n",
        "print('='*50)\n",
        "print(data.tail())\n",
        "print('='*50)\n",
        "data.info(show_counts=True)"
      ]
    },
    {
      "cell_type": "code",
      "source": [],
      "metadata": {
        "id": "vwhiqkLm78GQ"
      },
      "execution_count": null,
      "outputs": []
    }
  ]
}